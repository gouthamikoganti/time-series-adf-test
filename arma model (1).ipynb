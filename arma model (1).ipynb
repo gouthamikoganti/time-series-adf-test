{
 "cells": [
  {
   "cell_type": "code",
   "execution_count": 24,
   "metadata": {},
   "outputs": [
    {
     "data": {
      "text/html": [
       "<div>\n",
       "<style scoped>\n",
       "    .dataframe tbody tr th:only-of-type {\n",
       "        vertical-align: middle;\n",
       "    }\n",
       "\n",
       "    .dataframe tbody tr th {\n",
       "        vertical-align: top;\n",
       "    }\n",
       "\n",
       "    .dataframe thead th {\n",
       "        text-align: right;\n",
       "    }\n",
       "</style>\n",
       "<table border=\"1\" class=\"dataframe\">\n",
       "  <thead>\n",
       "    <tr style=\"text-align: right;\">\n",
       "      <th></th>\n",
       "      <th>Datetime</th>\n",
       "      <th>device</th>\n",
       "      <th>co</th>\n",
       "      <th>humidity</th>\n",
       "      <th>light</th>\n",
       "      <th>lpg</th>\n",
       "      <th>motion</th>\n",
       "      <th>smoke</th>\n",
       "      <th>temp</th>\n",
       "    </tr>\n",
       "  </thead>\n",
       "  <tbody>\n",
       "    <tr>\n",
       "      <th>0</th>\n",
       "      <td>2020-07-12 00:01:39.589</td>\n",
       "      <td>1c:bf:ce:15:ec:4d</td>\n",
       "      <td>0.004403</td>\n",
       "      <td>76.800003</td>\n",
       "      <td>True</td>\n",
       "      <td>0.007023</td>\n",
       "      <td>False</td>\n",
       "      <td>0.018628</td>\n",
       "      <td>27.0</td>\n",
       "    </tr>\n",
       "    <tr>\n",
       "      <th>1</th>\n",
       "      <td>2020-07-12 00:01:44.468</td>\n",
       "      <td>1c:bf:ce:15:ec:4d</td>\n",
       "      <td>0.004391</td>\n",
       "      <td>77.900002</td>\n",
       "      <td>True</td>\n",
       "      <td>0.007009</td>\n",
       "      <td>False</td>\n",
       "      <td>0.018589</td>\n",
       "      <td>27.0</td>\n",
       "    </tr>\n",
       "    <tr>\n",
       "      <th>2</th>\n",
       "      <td>2020-07-12 00:01:48.275</td>\n",
       "      <td>1c:bf:ce:15:ec:4d</td>\n",
       "      <td>0.004345</td>\n",
       "      <td>77.900002</td>\n",
       "      <td>True</td>\n",
       "      <td>0.006957</td>\n",
       "      <td>False</td>\n",
       "      <td>0.018440</td>\n",
       "      <td>27.0</td>\n",
       "    </tr>\n",
       "    <tr>\n",
       "      <th>3</th>\n",
       "      <td>2020-07-12 00:01:55.289</td>\n",
       "      <td>1c:bf:ce:15:ec:4d</td>\n",
       "      <td>0.004383</td>\n",
       "      <td>78.000000</td>\n",
       "      <td>True</td>\n",
       "      <td>0.007000</td>\n",
       "      <td>False</td>\n",
       "      <td>0.018563</td>\n",
       "      <td>27.0</td>\n",
       "    </tr>\n",
       "    <tr>\n",
       "      <th>4</th>\n",
       "      <td>2020-07-12 00:01:59.098</td>\n",
       "      <td>1c:bf:ce:15:ec:4d</td>\n",
       "      <td>0.004451</td>\n",
       "      <td>78.000000</td>\n",
       "      <td>True</td>\n",
       "      <td>0.007079</td>\n",
       "      <td>False</td>\n",
       "      <td>0.018786</td>\n",
       "      <td>27.0</td>\n",
       "    </tr>\n",
       "    <tr>\n",
       "      <th>5</th>\n",
       "      <td>2020-07-12 00:02:09.374</td>\n",
       "      <td>1c:bf:ce:15:ec:4d</td>\n",
       "      <td>0.004439</td>\n",
       "      <td>77.900002</td>\n",
       "      <td>True</td>\n",
       "      <td>0.007065</td>\n",
       "      <td>False</td>\n",
       "      <td>0.018747</td>\n",
       "      <td>27.0</td>\n",
       "    </tr>\n",
       "    <tr>\n",
       "      <th>6</th>\n",
       "      <td>2020-07-12 00:02:13.717</td>\n",
       "      <td>1c:bf:ce:15:ec:4d</td>\n",
       "      <td>0.004391</td>\n",
       "      <td>77.900002</td>\n",
       "      <td>True</td>\n",
       "      <td>0.007009</td>\n",
       "      <td>False</td>\n",
       "      <td>0.018589</td>\n",
       "      <td>27.0</td>\n",
       "    </tr>\n",
       "    <tr>\n",
       "      <th>7</th>\n",
       "      <td>2020-07-12 00:02:19.666</td>\n",
       "      <td>1c:bf:ce:15:ec:4d</td>\n",
       "      <td>0.004381</td>\n",
       "      <td>77.900002</td>\n",
       "      <td>True</td>\n",
       "      <td>0.006998</td>\n",
       "      <td>False</td>\n",
       "      <td>0.018556</td>\n",
       "      <td>27.0</td>\n",
       "    </tr>\n",
       "    <tr>\n",
       "      <th>8</th>\n",
       "      <td>2020-07-12 00:02:25.083</td>\n",
       "      <td>1c:bf:ce:15:ec:4d</td>\n",
       "      <td>0.004344</td>\n",
       "      <td>78.300003</td>\n",
       "      <td>True</td>\n",
       "      <td>0.006955</td>\n",
       "      <td>False</td>\n",
       "      <td>0.018433</td>\n",
       "      <td>27.0</td>\n",
       "    </tr>\n",
       "    <tr>\n",
       "      <th>9</th>\n",
       "      <td>2020-07-12 00:02:32.101</td>\n",
       "      <td>1c:bf:ce:15:ec:4d</td>\n",
       "      <td>0.004391</td>\n",
       "      <td>78.599998</td>\n",
       "      <td>True</td>\n",
       "      <td>0.007009</td>\n",
       "      <td>False</td>\n",
       "      <td>0.018589</td>\n",
       "      <td>27.0</td>\n",
       "    </tr>\n",
       "    <tr>\n",
       "      <th>10</th>\n",
       "      <td>2020-07-12 00:02:38.578</td>\n",
       "      <td>1c:bf:ce:15:ec:4d</td>\n",
       "      <td>0.004391</td>\n",
       "      <td>78.300003</td>\n",
       "      <td>True</td>\n",
       "      <td>0.007009</td>\n",
       "      <td>False</td>\n",
       "      <td>0.018589</td>\n",
       "      <td>27.0</td>\n",
       "    </tr>\n",
       "    <tr>\n",
       "      <th>11</th>\n",
       "      <td>2020-07-12 00:02:42.921</td>\n",
       "      <td>1c:bf:ce:15:ec:4d</td>\n",
       "      <td>0.004391</td>\n",
       "      <td>78.199997</td>\n",
       "      <td>True</td>\n",
       "      <td>0.007009</td>\n",
       "      <td>False</td>\n",
       "      <td>0.018589</td>\n",
       "      <td>27.0</td>\n",
       "    </tr>\n",
       "    <tr>\n",
       "      <th>12</th>\n",
       "      <td>2020-07-12 00:02:47.261</td>\n",
       "      <td>1c:bf:ce:15:ec:4d</td>\n",
       "      <td>0.004351</td>\n",
       "      <td>78.199997</td>\n",
       "      <td>True</td>\n",
       "      <td>0.006964</td>\n",
       "      <td>False</td>\n",
       "      <td>0.018459</td>\n",
       "      <td>27.0</td>\n",
       "    </tr>\n",
       "    <tr>\n",
       "      <th>13</th>\n",
       "      <td>2020-07-12 00:02:53.217</td>\n",
       "      <td>1c:bf:ce:15:ec:4d</td>\n",
       "      <td>0.004391</td>\n",
       "      <td>78.400002</td>\n",
       "      <td>True</td>\n",
       "      <td>0.007009</td>\n",
       "      <td>False</td>\n",
       "      <td>0.018589</td>\n",
       "      <td>27.0</td>\n",
       "    </tr>\n",
       "    <tr>\n",
       "      <th>14</th>\n",
       "      <td>2020-07-12 00:02:58.632</td>\n",
       "      <td>1c:bf:ce:15:ec:4d</td>\n",
       "      <td>0.004427</td>\n",
       "      <td>78.699997</td>\n",
       "      <td>True</td>\n",
       "      <td>0.007051</td>\n",
       "      <td>False</td>\n",
       "      <td>0.018707</td>\n",
       "      <td>27.0</td>\n",
       "    </tr>\n",
       "    <tr>\n",
       "      <th>15</th>\n",
       "      <td>2020-07-12 00:03:04.583</td>\n",
       "      <td>1c:bf:ce:15:ec:4d</td>\n",
       "      <td>0.004357</td>\n",
       "      <td>78.599998</td>\n",
       "      <td>True</td>\n",
       "      <td>0.006970</td>\n",
       "      <td>False</td>\n",
       "      <td>0.018479</td>\n",
       "      <td>27.0</td>\n",
       "    </tr>\n",
       "    <tr>\n",
       "      <th>16</th>\n",
       "      <td>2020-07-12 00:03:09.480</td>\n",
       "      <td>1c:bf:ce:15:ec:4d</td>\n",
       "      <td>0.004383</td>\n",
       "      <td>78.500000</td>\n",
       "      <td>True</td>\n",
       "      <td>0.007000</td>\n",
       "      <td>False</td>\n",
       "      <td>0.018563</td>\n",
       "      <td>27.0</td>\n",
       "    </tr>\n",
       "    <tr>\n",
       "      <th>17</th>\n",
       "      <td>2020-07-12 00:03:14.355</td>\n",
       "      <td>1c:bf:ce:15:ec:4d</td>\n",
       "      <td>0.004391</td>\n",
       "      <td>78.400002</td>\n",
       "      <td>True</td>\n",
       "      <td>0.007009</td>\n",
       "      <td>False</td>\n",
       "      <td>0.018589</td>\n",
       "      <td>27.0</td>\n",
       "    </tr>\n",
       "    <tr>\n",
       "      <th>18</th>\n",
       "      <td>2020-07-12 00:03:18.697</td>\n",
       "      <td>1c:bf:ce:15:ec:4d</td>\n",
       "      <td>0.004395</td>\n",
       "      <td>78.400002</td>\n",
       "      <td>True</td>\n",
       "      <td>0.007014</td>\n",
       "      <td>False</td>\n",
       "      <td>0.018602</td>\n",
       "      <td>27.0</td>\n",
       "    </tr>\n",
       "    <tr>\n",
       "      <th>19</th>\n",
       "      <td>2020-07-12 00:03:26.249</td>\n",
       "      <td>1c:bf:ce:15:ec:4d</td>\n",
       "      <td>0.004391</td>\n",
       "      <td>79.099998</td>\n",
       "      <td>True</td>\n",
       "      <td>0.007009</td>\n",
       "      <td>False</td>\n",
       "      <td>0.018589</td>\n",
       "      <td>27.0</td>\n",
       "    </tr>\n",
       "    <tr>\n",
       "      <th>20</th>\n",
       "      <td>2020-07-12 00:03:31.127</td>\n",
       "      <td>1c:bf:ce:15:ec:4d</td>\n",
       "      <td>0.004391</td>\n",
       "      <td>78.199997</td>\n",
       "      <td>True</td>\n",
       "      <td>0.007009</td>\n",
       "      <td>False</td>\n",
       "      <td>0.018589</td>\n",
       "      <td>27.0</td>\n",
       "    </tr>\n",
       "    <tr>\n",
       "      <th>21</th>\n",
       "      <td>2020-07-12 00:03:36.535</td>\n",
       "      <td>1c:bf:ce:15:ec:4d</td>\n",
       "      <td>0.004349</td>\n",
       "      <td>78.300003</td>\n",
       "      <td>True</td>\n",
       "      <td>0.006961</td>\n",
       "      <td>False</td>\n",
       "      <td>0.018453</td>\n",
       "      <td>27.0</td>\n",
       "    </tr>\n",
       "    <tr>\n",
       "      <th>22</th>\n",
       "      <td>2020-07-12 00:03:40.345</td>\n",
       "      <td>1c:bf:ce:15:ec:4d</td>\n",
       "      <td>0.004359</td>\n",
       "      <td>78.199997</td>\n",
       "      <td>True</td>\n",
       "      <td>0.006973</td>\n",
       "      <td>False</td>\n",
       "      <td>0.018485</td>\n",
       "      <td>27.0</td>\n",
       "    </tr>\n",
       "    <tr>\n",
       "      <th>23</th>\n",
       "      <td>2020-07-12 00:03:46.297</td>\n",
       "      <td>1c:bf:ce:15:ec:4d</td>\n",
       "      <td>0.004451</td>\n",
       "      <td>78.199997</td>\n",
       "      <td>True</td>\n",
       "      <td>0.007079</td>\n",
       "      <td>False</td>\n",
       "      <td>0.018786</td>\n",
       "      <td>27.0</td>\n",
       "    </tr>\n",
       "    <tr>\n",
       "      <th>24</th>\n",
       "      <td>2020-07-12 00:03:53.848</td>\n",
       "      <td>1c:bf:ce:15:ec:4d</td>\n",
       "      <td>0.004451</td>\n",
       "      <td>78.199997</td>\n",
       "      <td>True</td>\n",
       "      <td>0.007079</td>\n",
       "      <td>False</td>\n",
       "      <td>0.018786</td>\n",
       "      <td>27.0</td>\n",
       "    </tr>\n",
       "    <tr>\n",
       "      <th>25</th>\n",
       "      <td>2020-07-12 00:04:00.327</td>\n",
       "      <td>1c:bf:ce:15:ec:4d</td>\n",
       "      <td>0.004468</td>\n",
       "      <td>78.199997</td>\n",
       "      <td>True</td>\n",
       "      <td>0.007098</td>\n",
       "      <td>False</td>\n",
       "      <td>0.018840</td>\n",
       "      <td>27.0</td>\n",
       "    </tr>\n",
       "    <tr>\n",
       "      <th>26</th>\n",
       "      <td>2020-07-12 00:04:06.819</td>\n",
       "      <td>1c:bf:ce:15:ec:4d</td>\n",
       "      <td>0.004439</td>\n",
       "      <td>78.199997</td>\n",
       "      <td>True</td>\n",
       "      <td>0.007065</td>\n",
       "      <td>False</td>\n",
       "      <td>0.018747</td>\n",
       "      <td>27.0</td>\n",
       "    </tr>\n",
       "    <tr>\n",
       "      <th>27</th>\n",
       "      <td>2020-07-12 00:04:13.839</td>\n",
       "      <td>1c:bf:ce:15:ec:4d</td>\n",
       "      <td>0.004460</td>\n",
       "      <td>78.000000</td>\n",
       "      <td>True</td>\n",
       "      <td>0.007089</td>\n",
       "      <td>False</td>\n",
       "      <td>0.018813</td>\n",
       "      <td>27.0</td>\n",
       "    </tr>\n",
       "    <tr>\n",
       "      <th>28</th>\n",
       "      <td>2020-07-12 00:04:18.716</td>\n",
       "      <td>1c:bf:ce:15:ec:4d</td>\n",
       "      <td>0.004427</td>\n",
       "      <td>78.000000</td>\n",
       "      <td>True</td>\n",
       "      <td>0.007051</td>\n",
       "      <td>False</td>\n",
       "      <td>0.018707</td>\n",
       "      <td>27.0</td>\n",
       "    </tr>\n",
       "    <tr>\n",
       "      <th>29</th>\n",
       "      <td>2020-07-12 00:04:28.941</td>\n",
       "      <td>1c:bf:ce:15:ec:4d</td>\n",
       "      <td>0.004391</td>\n",
       "      <td>78.000000</td>\n",
       "      <td>True</td>\n",
       "      <td>0.007009</td>\n",
       "      <td>False</td>\n",
       "      <td>0.018589</td>\n",
       "      <td>27.0</td>\n",
       "    </tr>\n",
       "  </tbody>\n",
       "</table>\n",
       "</div>"
      ],
      "text/plain": [
       "                  Datetime             device        co   humidity  light  \\\n",
       "0  2020-07-12 00:01:39.589  1c:bf:ce:15:ec:4d  0.004403  76.800003   True   \n",
       "1  2020-07-12 00:01:44.468  1c:bf:ce:15:ec:4d  0.004391  77.900002   True   \n",
       "2  2020-07-12 00:01:48.275  1c:bf:ce:15:ec:4d  0.004345  77.900002   True   \n",
       "3  2020-07-12 00:01:55.289  1c:bf:ce:15:ec:4d  0.004383  78.000000   True   \n",
       "4  2020-07-12 00:01:59.098  1c:bf:ce:15:ec:4d  0.004451  78.000000   True   \n",
       "5  2020-07-12 00:02:09.374  1c:bf:ce:15:ec:4d  0.004439  77.900002   True   \n",
       "6  2020-07-12 00:02:13.717  1c:bf:ce:15:ec:4d  0.004391  77.900002   True   \n",
       "7  2020-07-12 00:02:19.666  1c:bf:ce:15:ec:4d  0.004381  77.900002   True   \n",
       "8  2020-07-12 00:02:25.083  1c:bf:ce:15:ec:4d  0.004344  78.300003   True   \n",
       "9  2020-07-12 00:02:32.101  1c:bf:ce:15:ec:4d  0.004391  78.599998   True   \n",
       "10 2020-07-12 00:02:38.578  1c:bf:ce:15:ec:4d  0.004391  78.300003   True   \n",
       "11 2020-07-12 00:02:42.921  1c:bf:ce:15:ec:4d  0.004391  78.199997   True   \n",
       "12 2020-07-12 00:02:47.261  1c:bf:ce:15:ec:4d  0.004351  78.199997   True   \n",
       "13 2020-07-12 00:02:53.217  1c:bf:ce:15:ec:4d  0.004391  78.400002   True   \n",
       "14 2020-07-12 00:02:58.632  1c:bf:ce:15:ec:4d  0.004427  78.699997   True   \n",
       "15 2020-07-12 00:03:04.583  1c:bf:ce:15:ec:4d  0.004357  78.599998   True   \n",
       "16 2020-07-12 00:03:09.480  1c:bf:ce:15:ec:4d  0.004383  78.500000   True   \n",
       "17 2020-07-12 00:03:14.355  1c:bf:ce:15:ec:4d  0.004391  78.400002   True   \n",
       "18 2020-07-12 00:03:18.697  1c:bf:ce:15:ec:4d  0.004395  78.400002   True   \n",
       "19 2020-07-12 00:03:26.249  1c:bf:ce:15:ec:4d  0.004391  79.099998   True   \n",
       "20 2020-07-12 00:03:31.127  1c:bf:ce:15:ec:4d  0.004391  78.199997   True   \n",
       "21 2020-07-12 00:03:36.535  1c:bf:ce:15:ec:4d  0.004349  78.300003   True   \n",
       "22 2020-07-12 00:03:40.345  1c:bf:ce:15:ec:4d  0.004359  78.199997   True   \n",
       "23 2020-07-12 00:03:46.297  1c:bf:ce:15:ec:4d  0.004451  78.199997   True   \n",
       "24 2020-07-12 00:03:53.848  1c:bf:ce:15:ec:4d  0.004451  78.199997   True   \n",
       "25 2020-07-12 00:04:00.327  1c:bf:ce:15:ec:4d  0.004468  78.199997   True   \n",
       "26 2020-07-12 00:04:06.819  1c:bf:ce:15:ec:4d  0.004439  78.199997   True   \n",
       "27 2020-07-12 00:04:13.839  1c:bf:ce:15:ec:4d  0.004460  78.000000   True   \n",
       "28 2020-07-12 00:04:18.716  1c:bf:ce:15:ec:4d  0.004427  78.000000   True   \n",
       "29 2020-07-12 00:04:28.941  1c:bf:ce:15:ec:4d  0.004391  78.000000   True   \n",
       "\n",
       "         lpg  motion     smoke  temp  \n",
       "0   0.007023   False  0.018628  27.0  \n",
       "1   0.007009   False  0.018589  27.0  \n",
       "2   0.006957   False  0.018440  27.0  \n",
       "3   0.007000   False  0.018563  27.0  \n",
       "4   0.007079   False  0.018786  27.0  \n",
       "5   0.007065   False  0.018747  27.0  \n",
       "6   0.007009   False  0.018589  27.0  \n",
       "7   0.006998   False  0.018556  27.0  \n",
       "8   0.006955   False  0.018433  27.0  \n",
       "9   0.007009   False  0.018589  27.0  \n",
       "10  0.007009   False  0.018589  27.0  \n",
       "11  0.007009   False  0.018589  27.0  \n",
       "12  0.006964   False  0.018459  27.0  \n",
       "13  0.007009   False  0.018589  27.0  \n",
       "14  0.007051   False  0.018707  27.0  \n",
       "15  0.006970   False  0.018479  27.0  \n",
       "16  0.007000   False  0.018563  27.0  \n",
       "17  0.007009   False  0.018589  27.0  \n",
       "18  0.007014   False  0.018602  27.0  \n",
       "19  0.007009   False  0.018589  27.0  \n",
       "20  0.007009   False  0.018589  27.0  \n",
       "21  0.006961   False  0.018453  27.0  \n",
       "22  0.006973   False  0.018485  27.0  \n",
       "23  0.007079   False  0.018786  27.0  \n",
       "24  0.007079   False  0.018786  27.0  \n",
       "25  0.007098   False  0.018840  27.0  \n",
       "26  0.007065   False  0.018747  27.0  \n",
       "27  0.007089   False  0.018813  27.0  \n",
       "28  0.007051   False  0.018707  27.0  \n",
       "29  0.007009   False  0.018589  27.0  "
      ]
     },
     "execution_count": 24,
     "metadata": {},
     "output_type": "execute_result"
    }
   ],
   "source": [
    "import pandas as pd\n",
    "import matplotlib.pyplot as plt\n",
    "from statsmodels.tsa.arima_model import ARMA\n",
    "import seaborn as sns\n",
    "from statsmodels.tsa.stattools import adfuller\n",
    "import warnings\n",
    "warnings.filterwarnings('ignore')\n",
    "import numpy as np\n",
    "\n",
    "\n",
    "df = pd.read_excel(r'C:\\Users\\admin\\Desktop\\data from device2.xlsx',parse_dates=[\"Datetime\"])\n",
    "df.head(30)"
   ]
  },
  {
   "cell_type": "code",
   "execution_count": 1,
   "metadata": {},
   "outputs": [],
   "source": [
    "#df_temp = df[df.temp]\n",
    "#df_temp\n",
    "#df.describe()\n",
    "\n",
    "#df_Denamrk.index = pd.to_datetime(df_Denamrk.dt)"
   ]
  },
  {
   "cell_type": "code",
   "execution_count": 4,
   "metadata": {},
   "outputs": [
    {
     "data": {
      "text/plain": [
       "<bound method DataFrame.info of                       Datetime             device        co   humidity  light  \\\n",
       "0      2020-07-12 00:01:39.589  1c:bf:ce:15:ec:4d  0.004403  76.800003   True   \n",
       "1      2020-07-12 00:01:44.468  1c:bf:ce:15:ec:4d  0.004391  77.900002   True   \n",
       "2      2020-07-12 00:01:48.275  1c:bf:ce:15:ec:4d  0.004345  77.900002   True   \n",
       "3      2020-07-12 00:01:55.289  1c:bf:ce:15:ec:4d  0.004383  78.000000   True   \n",
       "4      2020-07-12 00:01:59.098  1c:bf:ce:15:ec:4d  0.004451  78.000000   True   \n",
       "...                        ...                ...       ...        ...    ...   \n",
       "105913 2020-07-20 00:03:09.091  1c:bf:ce:15:ec:4d  0.004524  75.900002   True   \n",
       "105914 2020-07-20 00:03:20.460  1c:bf:ce:15:ec:4d  0.004532  75.900002   True   \n",
       "105915 2020-07-20 00:03:24.270  1c:bf:ce:15:ec:4d  0.004532  75.900002   True   \n",
       "105916 2020-07-20 00:03:30.756  1c:bf:ce:15:ec:4d  0.004553  75.800003   True   \n",
       "105917 2020-07-20 00:03:36.168  1c:bf:ce:15:ec:4d  0.004540  75.699997   True   \n",
       "\n",
       "             lpg  motion     smoke  temp  \n",
       "0       0.007023   False  0.018628  27.0  \n",
       "1       0.007009   False  0.018589  27.0  \n",
       "2       0.006957   False  0.018440  27.0  \n",
       "3       0.007000   False  0.018563  27.0  \n",
       "4       0.007079   False  0.018786  27.0  \n",
       "...          ...     ...       ...   ...  \n",
       "105913  0.007162   False  0.019021  26.6  \n",
       "105914  0.007172   False  0.019049  26.6  \n",
       "105915  0.007172   False  0.019049  26.6  \n",
       "105916  0.007196   False  0.019117  26.6  \n",
       "105917  0.007181   False  0.019076  26.6  \n",
       "\n",
       "[105918 rows x 9 columns]>"
      ]
     },
     "execution_count": 4,
     "metadata": {},
     "output_type": "execute_result"
    }
   ],
   "source": [
    "df.info"
   ]
  },
  {
   "cell_type": "code",
   "execution_count": 5,
   "metadata": {},
   "outputs": [
    {
     "data": {
      "text/plain": [
       "Datetime    0\n",
       "device      0\n",
       "co          0\n",
       "humidity    0\n",
       "light       0\n",
       "lpg         0\n",
       "motion      0\n",
       "smoke       0\n",
       "temp        0\n",
       "dtype: int64"
      ]
     },
     "execution_count": 5,
     "metadata": {},
     "output_type": "execute_result"
    }
   ],
   "source": [
    "df.isnull().sum()"
   ]
  },
  {
   "cell_type": "code",
   "execution_count": 6,
   "metadata": {},
   "outputs": [
    {
     "data": {
      "text/plain": [
       "<matplotlib.axes._subplots.AxesSubplot at 0x28ffe6d6be0>"
      ]
     },
     "execution_count": 6,
     "metadata": {},
     "output_type": "execute_result"
    },
    {
     "data": {
      "image/png": "[encoded data removed]",
      "text/plain": [
       "<Figure size 432x288 with 1 Axes>"
      ]
     },
     "metadata": {
      "needs_background": "light"
     },
     "output_type": "display_data"
    }
   ],
   "source": [
    "df.boxplot(column=[\"temp\"])"
   ]
  },
  {
   "cell_type": "code",
   "execution_count": 10,
   "metadata": {},
   "outputs": [
    {
     "data": {
      "image/png": "[encoded data removed]",
      "text/plain": [
       "<Figure size 576x288 with 1 Axes>"
      ]
     },
     "metadata": {},
     "output_type": "display_data"
    }
   ],
   "source": [
    "sns.set(rc={'figure.figsize':(8,4)})\n",
    "plt.xticks(rotation=90)\n",
    "sns.lineplot(x=df['Datetime'],y=df['temp'])\n",
    "plt.show()"
   ]
  },
  {
   "cell_type": "code",
   "execution_count": 11,
   "metadata": {},
   "outputs": [
    {
     "data": {
      "image/png": "[encoded data removed]",
      "text/plain": [
       "<Figure size 576x288 with 2 Axes>"
      ]
     },
     "metadata": {},
     "output_type": "display_data"
    }
   ],
   "source": [
    "corr=df.corr()\n",
    "ax=sns.heatmap(corr)"
   ]
  },
  {
   "cell_type": "code",
   "execution_count": 25,
   "metadata": {},
   "outputs": [
    {
     "data": {
      "text/plain": [
       "Datetime    datetime64[ns]\n",
       "device              object\n",
       "co                 float64\n",
       "humidity           float64\n",
       "light                 bool\n",
       "lpg                float64\n",
       "motion                bool\n",
       "smoke              float64\n",
       "temp               float64\n",
       "dtype: object"
      ]
     },
     "metadata": {},
     "output_type": "display_data"
    }
   ],
   "source": [
    "display(df.dtypes)"
   ]
  },
  {
   "cell_type": "code",
   "execution_count": 1,
   "metadata": {},
   "outputs": [
    {
     "ename": "NameError",
     "evalue": "name 'df' is not defined",
     "output_type": "error",
     "traceback": [
      "\u001b[1;31m---------------------------------------------------------------------------\u001b[0m",
      "\u001b[1;31mNameError\u001b[0m                                 Traceback (most recent call last)",
      "\u001b[1;32m<ipython-input-1-42558cb92adf>\u001b[0m in \u001b[0;36m<module>\u001b[1;34m\u001b[0m\n\u001b[0;32m      1\u001b[0m \u001b[1;31m#df['temp'] = df['temp'].astype(int)\u001b[0m\u001b[1;33m\u001b[0m\u001b[1;33m\u001b[0m\u001b[1;33m\u001b[0m\u001b[0m\n\u001b[1;32m----> 2\u001b[1;33m \u001b[0mdf\u001b[0m\u001b[1;33m.\u001b[0m\u001b[0mindex\u001b[0m\u001b[1;33m.\u001b[0m\u001b[0mis_unique\u001b[0m\u001b[1;33m\u001b[0m\u001b[1;33m\u001b[0m\u001b[0m\n\u001b[0m",
      "\u001b[1;31mNameError\u001b[0m: name 'df' is not defined"
     ]
    }
   ],
   "source": [
    "#df['temp'] = df['temp'].astype(int)\n",
    "df.index.is_unique"
   ]
  },
  {
   "cell_type": "code",
   "execution_count": 115,
   "metadata": {},
   "outputs": [
    {
     "data": {
      "text/plain": [
       "array([False, False, False, ..., False, False, False])"
      ]
     },
     "execution_count": 115,
     "metadata": {},
     "output_type": "execute_result"
    }
   ],
   "source": [
    "df.index.duplicated()"
   ]
  },
  {
   "cell_type": "code",
   "execution_count": 63,
   "metadata": {},
   "outputs": [
    {
     "data": {
      "text/plain": [
       "Datetime    datetime64[ns]\n",
       "device              object\n",
       "co                 float64\n",
       "humidity           float64\n",
       "light                 bool\n",
       "lpg                float64\n",
       "motion                bool\n",
       "smoke              float64\n",
       "temp                 int32\n",
       "dtype: object"
      ]
     },
     "metadata": {},
     "output_type": "display_data"
    }
   ],
   "source": [
    "display(df.dtypes)"
   ]
  },
  {
   "cell_type": "code",
   "execution_count": 34,
   "metadata": {},
   "outputs": [
    {
     "data": {
      "text/plain": [
       "count    105918.000000\n",
       "mean         26.025511\n",
       "std           2.026427\n",
       "min           0.000000\n",
       "25%          24.299999\n",
       "50%          25.900000\n",
       "75%          27.299999\n",
       "max          30.600000\n",
       "Name: temp, dtype: float64"
      ]
     },
     "execution_count": 34,
     "metadata": {},
     "output_type": "execute_result"
    }
   ],
   "source": [
    "#df1 = df.copy()\n",
    "df = df.dropna()\n",
    "#df_Denamrk = TempData[TempData.Country == \"Denmark\"]\n",
    "df1 = df['temp']\n",
    "\n",
    "#type(df1)\n",
    "df1.index = pd.to_datetime(df.Datetime)\n",
    "#df_Denamrk.index = pd.to_datetime(df_Denamrk.dt)\n",
    "#df1.set_index(df.Datetime, inplace=True)\n",
    "#df1['temp']\n",
    "df1\n",
    "df1.describe()"
   ]
  },
  {
   "cell_type": "code",
   "execution_count": 16,
   "metadata": {},
   "outputs": [
    {
     "data": {
      "text/plain": [
       "Datetime\n",
       "2020-07-12 00:01:39.589    27.0\n",
       "2020-07-12 00:01:44.468    27.0\n",
       "2020-07-12 00:01:48.275    27.0\n",
       "2020-07-12 00:01:55.289    27.0\n",
       "2020-07-12 00:01:59.098    27.0\n",
       "                           ... \n",
       "2020-07-20 00:03:09.091    26.6\n",
       "2020-07-20 00:03:20.460    26.6\n",
       "2020-07-20 00:03:24.270    26.6\n",
       "2020-07-20 00:03:30.756    26.6\n",
       "2020-07-20 00:03:36.168    26.6\n",
       "Name: temp, Length: 105918, dtype: float64"
      ]
     },
     "execution_count": 16,
     "metadata": {},
     "output_type": "execute_result"
    }
   ],
   "source": [
    "ts = df1\n",
    "ts"
   ]
  },
  {
   "cell_type": "code",
   "execution_count": 49,
   "metadata": {},
   "outputs": [
    {
     "data": {
      "text/plain": [
       "[<matplotlib.lines.Line2D at 0x1964ec43b80>]"
      ]
     },
     "execution_count": 49,
     "metadata": {},
     "output_type": "execute_result"
    },
    {
     "data": {
      "image/png": "[encoded data removed]",
      "text/plain": [
       "<Figure size 1152x504 with 1 Axes>"
      ]
     },
     "metadata": {
      "needs_background": "light"
     },
     "output_type": "display_data"
    }
   ],
   "source": [
    "#Data Exploration\n",
    "plt.figure(figsize=(16,7))\n",
    "fig = plt.figure(1)\n",
    "ax1 = fig.add_subplot(111)\n",
    "ax1.set_xlabel('Datetime')\n",
    "ax1.set_ylabel('Temp ')\n",
    "ax1.plot(ts)\n"
   ]
  },
  {
   "cell_type": "code",
   "execution_count": 105,
   "metadata": {},
   "outputs": [
    {
     "name": "stdout",
     "output_type": "stream",
     "text": [
      "ADF Statistic: -2.7073202684431577\n",
      "p-value: 0.07278008644820742\n",
      "Critial Values:\n",
      "   1%, -3.430411774010953\n",
      "Critial Values:\n",
      "   5%, -2.8615673031616877\n",
      "Critial Values:\n",
      "   10%, -2.5667845325146637\n"
     ]
    }
   ],
   "source": [
    "adfuller_result = adfuller(ts, autolag='AIC')\n",
    "\n",
    "print(f'ADF Statistic: {adfuller_result[0]}')\n",
    "\n",
    "print(f'p-value: {adfuller_result[1]}')\n",
    "\n",
    "for key, value in adfuller_result[4].items():\n",
    "    print('Critial Values:')\n",
    "    print(f'   {key}, {value}')"
   ]
  },
  {
   "cell_type": "code",
   "execution_count": 8,
   "metadata": {},
   "outputs": [],
   "source": [
    "#newmodel = ARMA(ts,order=(1,1))\n",
    "#results = newmodel.fit()\n",
    "\n",
    "#predictions = results.predict('12-07-2020', '20-07-2020')\n",
    "#newmodel = ARMA(ts,order=(1,1))\n",
    "#results = newmodel.fit()\n",
    "#mod = ARMA(ts,order=(1,1))\n",
    "#results = mod.fit()\n",
    "#print('ARMA{} - AIC:{}'.format(results.aic))\n",
    "\n",
    "#predictions = results.predict('07/12/2020', '20/12/2020')"
   ]
  },
  {
   "cell_type": "code",
   "execution_count": 3,
   "metadata": {},
   "outputs": [
    {
     "data": {
      "text/plain": [
       "Datetime\n",
       "2020-07-12 00:01:39.589    76.800003\n",
       "2020-07-12 00:01:44.468    77.900002\n",
       "2020-07-12 00:01:48.275    77.900002\n",
       "2020-07-12 00:01:55.289    78.000000\n",
       "2020-07-12 00:01:59.098    78.000000\n",
       "                             ...    \n",
       "2020-07-20 00:03:09.091    75.900002\n",
       "2020-07-20 00:03:20.460    75.900002\n",
       "2020-07-20 00:03:24.270    75.900002\n",
       "2020-07-20 00:03:30.756    75.800003\n",
       "2020-07-20 00:03:36.168    75.699997\n",
       "Name: humidity, Length: 105918, dtype: float64"
      ]
     },
     "execution_count": 3,
     "metadata": {},
     "output_type": "execute_result"
    }
   ],
   "source": [
    "df2 = df['humidity']\n",
    "df2.index = pd.to_datetime(df.Datetime)\n",
    "df2"
   ]
  },
  {
   "cell_type": "code",
   "execution_count": 4,
   "metadata": {},
   "outputs": [
    {
     "data": {
      "text/plain": [
       "Datetime\n",
       "2020-07-12 00:01:39.589    76.800003\n",
       "2020-07-12 00:01:44.468    77.900002\n",
       "2020-07-12 00:01:48.275    77.900002\n",
       "2020-07-12 00:01:55.289    78.000000\n",
       "2020-07-12 00:01:59.098    78.000000\n",
       "                             ...    \n",
       "2020-07-20 00:03:09.091    75.900002\n",
       "2020-07-20 00:03:20.460    75.900002\n",
       "2020-07-20 00:03:24.270    75.900002\n",
       "2020-07-20 00:03:30.756    75.800003\n",
       "2020-07-20 00:03:36.168    75.699997\n",
       "Name: humidity, Length: 105918, dtype: float64"
      ]
     },
     "execution_count": 4,
     "metadata": {},
     "output_type": "execute_result"
    }
   ],
   "source": [
    "ts1 = df2\n",
    "ts1"
   ]
  },
  {
   "cell_type": "code",
   "execution_count": 100,
   "metadata": {},
   "outputs": [
    {
     "ename": "NameError",
     "evalue": "name 'predictions' is not defined",
     "output_type": "error",
     "traceback": [
      "\u001b[1;31m---------------------------------------------------------------------------\u001b[0m",
      "\u001b[1;31mNameError\u001b[0m                                 Traceback (most recent call last)",
      "\u001b[1;32m<ipython-input-100-c3f3571558af>\u001b[0m in \u001b[0;36m<module>\u001b[1;34m\u001b[0m\n\u001b[0;32m      1\u001b[0m \u001b[1;32mfrom\u001b[0m \u001b[0msklearn\u001b[0m\u001b[1;33m.\u001b[0m\u001b[0mmetrics\u001b[0m \u001b[1;32mimport\u001b[0m \u001b[0mmean_absolute_error\u001b[0m\u001b[1;33m\u001b[0m\u001b[1;33m\u001b[0m\u001b[0m\n\u001b[1;32m----> 2\u001b[1;33m \u001b[0mmae\u001b[0m \u001b[1;33m=\u001b[0m \u001b[0mmean_absolute_error\u001b[0m\u001b[1;33m(\u001b[0m\u001b[0mactuals\u001b[0m\u001b[1;33m[\u001b[0m\u001b[1;36m0\u001b[0m\u001b[1;33m:\u001b[0m\u001b[1;36m13\u001b[0m\u001b[1;33m]\u001b[0m\u001b[1;33m,\u001b[0m \u001b[0mpredictions\u001b[0m\u001b[1;33m)\u001b[0m\u001b[1;33m\u001b[0m\u001b[1;33m\u001b[0m\u001b[0m\n\u001b[0m\u001b[0;32m      3\u001b[0m \u001b[0mprint\u001b[0m\u001b[1;33m(\u001b[0m\u001b[1;34m'MAE: %f'\u001b[0m \u001b[1;33m%\u001b[0m \u001b[0mmae\u001b[0m\u001b[1;33m)\u001b[0m\u001b[1;33m\u001b[0m\u001b[1;33m\u001b[0m\u001b[0m\n",
      "\u001b[1;31mNameError\u001b[0m: name 'predictions' is not defined"
     ]
    }
   ],
   "source": [
    "from sklearn.metrics import mean_absolute_error\n",
    "mae = mean_absolute_error(actuals[0:13], predictions)\n",
    "print('MAE: %f' % mae)"
   ]
  },
  {
   "cell_type": "code",
   "execution_count": null,
   "metadata": {},
   "outputs": [],
   "source": []
  },
  {
   "cell_type": "code",
   "execution_count": 5,
   "metadata": {},
   "outputs": [
    {
     "data": {
      "text/plain": [
       "[<matplotlib.lines.Line2D at 0x209ade136a0>]"
      ]
     },
     "execution_count": 5,
     "metadata": {},
     "output_type": "execute_result"
    },
    {
     "data": {
      "image/png": "[encoded data removed]",
      "text/plain": [
       "<Figure size 1152x504 with 1 Axes>"
      ]
     },
     "metadata": {
      "needs_background": "light"
     },
     "output_type": "display_data"
    }
   ],
   "source": [
    "#Data Exploration\n",
    "plt.figure(figsize=(16,7))\n",
    "fig = plt.figure(1)\n",
    "ax1 = fig.add_subplot(111)\n",
    "ax1.set_xlabel('Datetime')\n",
    "ax1.set_ylabel('humidity')\n",
    "ax1.plot(ts1)\n"
   ]
  },
  {
   "cell_type": "code",
   "execution_count": 71,
   "metadata": {},
   "outputs": [
    {
     "data": {
      "text/plain": [
       "Series([], Name: temp, dtype: int32)"
      ]
     },
     "execution_count": 71,
     "metadata": {},
     "output_type": "execute_result"
    }
   ],
   "source": [
    "actuals = df1['12/07/2020': '20/07/2020'][0:13]\n",
    "actuals"
   ]
  },
  {
   "cell_type": "code",
   "execution_count": 6,
   "metadata": {},
   "outputs": [
    {
     "name": "stdout",
     "output_type": "stream",
     "text": [
      "ADF Statistic: -2.3041158406009172\n",
      "p-value: 0.17064396701606\n",
      "Critial Values:\n",
      "   1%, -3.430411765842291\n",
      "Critial Values:\n",
      "   5%, -2.8615672995513024\n",
      "Critial Values:\n",
      "   10%, -2.5667845305929755\n"
     ]
    }
   ],
   "source": [
    "adfuller_result = adfuller(ts1, autolag='AIC')\n",
    "\n",
    "print(f'ADF Statistic: {adfuller_result[0]}')\n",
    "\n",
    "print(f'p-value: {adfuller_result[1]}')\n",
    "\n",
    "for key, value in adfuller_result[4].items():\n",
    "    print('Critial Values:')\n",
    "    print(f'   {key}, {value}')"
   ]
  },
  {
   "cell_type": "code",
   "execution_count": 106,
   "metadata": {},
   "outputs": [
    {
     "name": "stdout",
     "output_type": "stream",
     "text": [
      "ARMA(0, 0) - AIC:455811.8202566837\n",
      "ARMA(0, 1) - AIC:380568.27440218977\n",
      "ARMA(0, 2) - AIC:343110.11603965587\n",
      "ARMA(0, 3) - AIC:319374.61961277184\n",
      "ARMA(1, 0) - AIC:271908.8871035464\n",
      "ARMA(2, 0) - AIC:244693.355416343\n",
      "ARMA(3, 0) - AIC:232274.67519178212\n"
     ]
    }
   ],
   "source": [
    "import itertools\n",
    "i = j = range(0, 4)\n",
    "ij = itertools.product(i,j)\n",
    "for parameters in ij:\n",
    "    try:\n",
    "        mod = ARMA(ts,order=parameters)\n",
    "        results = mod.fit()\n",
    "        print('ARMA{} - AIC:{}'.format(parameters, results.aic))\n",
    "    except:\n",
    "        continue"
   ]
  },
  {
   "cell_type": "code",
   "execution_count": 109,
   "metadata": {},
   "outputs": [
    {
     "ename": "NameError",
     "evalue": "name 'predictions' is not defined",
     "output_type": "error",
     "traceback": [
      "\u001b[1;31m---------------------------------------------------------------------------\u001b[0m",
      "\u001b[1;31mNameError\u001b[0m                                 Traceback (most recent call last)",
      "\u001b[1;32m<ipython-input-109-c3f3571558af>\u001b[0m in \u001b[0;36m<module>\u001b[1;34m\u001b[0m\n\u001b[0;32m      1\u001b[0m \u001b[1;32mfrom\u001b[0m \u001b[0msklearn\u001b[0m\u001b[1;33m.\u001b[0m\u001b[0mmetrics\u001b[0m \u001b[1;32mimport\u001b[0m \u001b[0mmean_absolute_error\u001b[0m\u001b[1;33m\u001b[0m\u001b[1;33m\u001b[0m\u001b[0m\n\u001b[1;32m----> 2\u001b[1;33m \u001b[0mmae\u001b[0m \u001b[1;33m=\u001b[0m \u001b[0mmean_absolute_error\u001b[0m\u001b[1;33m(\u001b[0m\u001b[0mactuals\u001b[0m\u001b[1;33m[\u001b[0m\u001b[1;36m0\u001b[0m\u001b[1;33m:\u001b[0m\u001b[1;36m13\u001b[0m\u001b[1;33m]\u001b[0m\u001b[1;33m,\u001b[0m \u001b[0mpredictions\u001b[0m\u001b[1;33m)\u001b[0m\u001b[1;33m\u001b[0m\u001b[1;33m\u001b[0m\u001b[0m\n\u001b[0m\u001b[0;32m      3\u001b[0m \u001b[0mprint\u001b[0m\u001b[1;33m(\u001b[0m\u001b[1;34m'MAE: %f'\u001b[0m \u001b[1;33m%\u001b[0m \u001b[0mmae\u001b[0m\u001b[1;33m)\u001b[0m\u001b[1;33m\u001b[0m\u001b[1;33m\u001b[0m\u001b[0m\n",
      "\u001b[1;31mNameError\u001b[0m: name 'predictions' is not defined"
     ]
    }
   ],
   "source": [
    "from sklearn.metrics import mean_absolute_error\n",
    "mae = mean_absolute_error(actuals[0:13], predictions)\n",
    "print('MAE: %f' % mae)"
   ]
  },
  {
   "cell_type": "code",
   "execution_count": 110,
   "metadata": {},
   "outputs": [],
   "source": [
    "#define function for ADF test\n",
    "from statsmodels.tsa.stattools import adfuller\n",
    "def adf_test(ts):\n",
    "    #Perform Dickey-Fuller test:\n",
    "    print ('Results of Dickey-Fuller Test:')\n",
    "    dftest = adfuller(ts, autolag='AIC')\n",
    "    dfoutput = pd.Series(dftest[0:4], index=['Test Statistic','p-value','#Lags Used','Number of Observations Used'])\n",
    "    for key,value in dftest[4].items():\n",
    "       dfoutput['Critical Value (%s)'%key] = value\n",
    "    print (dfoutput)\n"
   ]
  },
  {
   "cell_type": "code",
   "execution_count": 123,
   "metadata": {},
   "outputs": [
    {
     "data": {
      "text/plain": [
       "array([[Timestamp('2020-07-12 00:01:39.589000'), '1c:bf:ce:15:ec:4d',\n",
       "        0.00440302682969968, ..., False, 0.0186282253770188, 27.0],\n",
       "       [Timestamp('2020-07-12 00:01:44.468000'), '1c:bf:ce:15:ec:4d',\n",
       "        0.00439100395458335, ..., False, 0.0185889075400507, 27.0],\n",
       "       [Timestamp('2020-07-12 00:01:48.275000'), '1c:bf:ce:15:ec:4d',\n",
       "        0.00434547135957324, ..., False, 0.0184397819021168, 27.0],\n",
       "       ...,\n",
       "       [Timestamp('2020-07-20 00:03:24.270000'), '1c:bf:ce:15:ec:4d',\n",
       "        0.00453206819936983, ..., False, 0.0190487037791198,\n",
       "        26.6000003814697],\n",
       "       [Timestamp('2020-07-20 00:03:30.756000'), '1c:bf:ce:15:ec:4d',\n",
       "        0.00455321359072067, ..., False, 0.0191173443798619,\n",
       "        26.6000003814697],\n",
       "       [Timestamp('2020-07-20 00:03:36.168000'), '1c:bf:ce:15:ec:4d',\n",
       "        0.00454046174609514, ..., False, 0.019075958981004,\n",
       "        26.6000003814697]], dtype=object)"
      ]
     },
     "execution_count": 123,
     "metadata": {},
     "output_type": "execute_result"
    }
   ],
   "source": [
    "#ARMAmodel = ARMA(df, order=(1, 1))\n",
    "#ARmodel_fit = ARMAmodel.fit(disp=False)\n",
    "np.asarray(df)\n"
   ]
  },
  {
   "cell_type": "code",
   "execution_count": 124,
   "metadata": {},
   "outputs": [
    {
     "ename": "NameError",
     "evalue": "name 'ARmodel_fit' is not defined",
     "output_type": "error",
     "traceback": [
      "\u001b[1;31m---------------------------------------------------------------------------\u001b[0m",
      "\u001b[1;31mNameError\u001b[0m                                 Traceback (most recent call last)",
      "\u001b[1;32m<ipython-input-124-84f4aaa75b23>\u001b[0m in \u001b[0;36m<module>\u001b[1;34m\u001b[0m\n\u001b[1;32m----> 1\u001b[1;33m \u001b[0mypredicted\u001b[0m \u001b[1;33m=\u001b[0m \u001b[0mARmodel_fit\u001b[0m\u001b[1;33m.\u001b[0m\u001b[0mpredict\u001b[0m\u001b[1;33m(\u001b[0m\u001b[0mlen\u001b[0m\u001b[1;33m(\u001b[0m\u001b[0mdf\u001b[0m\u001b[1;33m)\u001b[0m\u001b[1;33m,\u001b[0m \u001b[0mlen\u001b[0m\u001b[1;33m(\u001b[0m\u001b[0mdf\u001b[0m\u001b[1;33m)\u001b[0m\u001b[1;33m+\u001b[0m\u001b[1;36m2\u001b[0m\u001b[1;33m)\u001b[0m\u001b[1;33m\u001b[0m\u001b[1;33m\u001b[0m\u001b[0m\n\u001b[0m\u001b[0;32m      2\u001b[0m \u001b[0mprint\u001b[0m\u001b[1;33m(\u001b[0m\u001b[0mypredicted\u001b[0m\u001b[1;33m)\u001b[0m\u001b[1;33m\u001b[0m\u001b[1;33m\u001b[0m\u001b[0m\n",
      "\u001b[1;31mNameError\u001b[0m: name 'ARmodel_fit' is not defined"
     ]
    }
   ],
   "source": [
    "ypredicted = ARmodel_fit.predict(len(df), len(df)+2)\n",
    "print(ypredicted)"
   ]
  },
  {
   "cell_type": "code",
   "execution_count": 125,
   "metadata": {},
   "outputs": [
    {
     "name": "stdout",
     "output_type": "stream",
     "text": [
      "co          1.026615e-07\n",
      "humidity    8.000931e+01\n",
      "light       0.000000e+00\n",
      "lpg         1.391555e-07\n",
      "motion      3.152850e-03\n",
      "smoke       1.113341e-06\n",
      "temp        4.106407e+00\n",
      "dtype: float64\n"
     ]
    }
   ],
   "source": [
    "print(df.var())"
   ]
  },
  {
   "cell_type": "code",
   "execution_count": 126,
   "metadata": {},
   "outputs": [
    {
     "name": "stdout",
     "output_type": "stream",
     "text": [
      "4.106406553684901\n"
     ]
    }
   ],
   "source": [
    "print(df.var()['temp'])"
   ]
  },
  {
   "cell_type": "code",
   "execution_count": 9,
   "metadata": {},
   "outputs": [
    {
     "data": {
      "text/plain": [
       "Datetime\n",
       "2020-07-12 00:01:39.589    0.004403\n",
       "2020-07-12 00:01:44.468    0.004391\n",
       "2020-07-12 00:01:48.275    0.004345\n",
       "2020-07-12 00:01:55.289    0.004383\n",
       "2020-07-12 00:01:59.098    0.004451\n",
       "                             ...   \n",
       "2020-07-20 00:03:09.091    0.004524\n",
       "2020-07-20 00:03:20.460    0.004532\n",
       "2020-07-20 00:03:24.270    0.004532\n",
       "2020-07-20 00:03:30.756    0.004553\n",
       "2020-07-20 00:03:36.168    0.004540\n",
       "Name: co, Length: 105918, dtype: float64"
      ]
     },
     "execution_count": 9,
     "metadata": {},
     "output_type": "execute_result"
    }
   ],
   "source": [
    "df3 = df['co']\n",
    "df3.index = pd.to_datetime(df.Datetime)\n",
    "df3"
   ]
  },
  {
   "cell_type": "code",
   "execution_count": 10,
   "metadata": {},
   "outputs": [
    {
     "name": "stdout",
     "output_type": "stream",
     "text": [
      "ADF Statistic: -2.6620458368957616\n",
      "p-value: 0.08083939326694245\n",
      "Critial Values:\n",
      "   1%, -3.430411781598074\n",
      "Critial Values:\n",
      "   5%, -2.8615673065150435\n",
      "Critial Values:\n",
      "   10%, -2.5667845342995435\n"
     ]
    }
   ],
   "source": [
    "adfuller_result = adfuller(df3, autolag='AIC')\n",
    "\n",
    "print(f'ADF Statistic: {adfuller_result[0]}')\n",
    "\n",
    "print(f'p-value: {adfuller_result[1]}')\n",
    "\n",
    "for key, value in adfuller_result[4].items():\n",
    "    print('Critial Values:')\n",
    "    print(f'   {key}, {value}')"
   ]
  },
  {
   "cell_type": "code",
   "execution_count": 11,
   "metadata": {},
   "outputs": [
    {
     "data": {
      "text/plain": [
       "[<matplotlib.lines.Line2D at 0x209a3f4d730>]"
      ]
     },
     "execution_count": 11,
     "metadata": {},
     "output_type": "execute_result"
    },
    {
     "data": {
      "image/png": "[encoded data removed]",
      "text/plain": [
       "<Figure size 1152x504 with 1 Axes>"
      ]
     },
     "metadata": {
      "needs_background": "light"
     },
     "output_type": "display_data"
    }
   ],
   "source": [
    "#Data Exploration\n",
    "plt.figure(figsize=(16,7))\n",
    "fig = plt.figure(1)\n",
    "ax1 = fig.add_subplot(111)\n",
    "ax1.set_xlabel('Datetime')\n",
    "ax1.set_ylabel('co')\n",
    "ax1.plot(df3)\n"
   ]
  },
  {
   "cell_type": "code",
   "execution_count": 17,
   "metadata": {},
   "outputs": [
    {
     "data": {
      "image/png": "[encoded data removed]",
      "text/plain": [
       "<Figure size 432x288 with 1 Axes>"
      ]
     },
     "metadata": {
      "needs_background": "light"
     },
     "output_type": "display_data"
    }
   ],
   "source": [
    "\n",
    "\n",
    "from matplotlib import pyplot\n",
    "\n",
    "ts.hist()\n",
    "pyplot.show()"
   ]
  },
  {
   "cell_type": "code",
   "execution_count": null,
   "metadata": {},
   "outputs": [],
   "source": [
    "X = series2.values    # Airline passgengers dataset\n",
    "split = int(len(X) / 2)\n",
    "X1, X2 = X[0:split], X[split:]\n",
    "mean1, mean2 = X1.mean(), X2.mean()\n",
    "var1, var2 = X1.var(), X2.var()\n",
    "print('mean1=%.2f, mean2=%.2f' % (mean1, mean2))\n",
    "print('variance1=%.2f, variance2=%.2f\\n' % (var1, var2))\n",
    "\n",
    "X = series3.values    # Shampoo Sales dataset\n",
    "split = int(len(X) / 2)\n",
    "X1, X2 = X[0:split], X[split:]\n",
    "mean1, mean2 = X1.mean(), X2.mean()\n",
    "var1, var2 = X1.var(), X2.var()\n",
    "print('mean1=%.2f, mean2=%.2f' % (mean1, mean2))\n",
    "print('variance1=%.2f, variance2=%.2f' % (var1, var2))"
   ]
  },
  {
   "cell_type": "code",
   "execution_count": 53,
   "metadata": {},
   "outputs": [
    {
     "name": "stdout",
     "output_type": "stream",
     "text": [
      "mean1=25.129723, mean2=25.968164\n",
      "variance1=3.501620, variance2=4.806683\n"
     ]
    }
   ],
   "source": [
    "from pandas import read_csv\n",
    "#series = pd.read_excel(r'C:\\Users\\admin\\Desktop\\data from device2.xlsx', header=0, index_col=0)\n",
    "X = df_temp\n",
    "split = len(X) // 2\n",
    "X1, X2 = X[0:split], X[split:]\n",
    "mean1, mean2 = X1.mean(), X2.mean()\n",
    "var1, var2 = X1.var(), X2.var()\n",
    "print('mean1=%f, mean2=%f' % (mean1, mean2))\n",
    "print('variance1=%f, variance2=%f' % (var1, var2))\n"
   ]
  },
  {
   "cell_type": "code",
   "execution_count": 54,
   "metadata": {},
   "outputs": [
    {
     "data": {
      "text/html": [
       "<div>\n",
       "<style scoped>\n",
       "    .dataframe tbody tr th:only-of-type {\n",
       "        vertical-align: middle;\n",
       "    }\n",
       "\n",
       "    .dataframe tbody tr th {\n",
       "        vertical-align: top;\n",
       "    }\n",
       "\n",
       "    .dataframe thead th {\n",
       "        text-align: right;\n",
       "    }\n",
       "</style>\n",
       "<table border=\"1\" class=\"dataframe\">\n",
       "  <thead>\n",
       "    <tr style=\"text-align: right;\">\n",
       "      <th></th>\n",
       "      <th>temp</th>\n",
       "    </tr>\n",
       "  </thead>\n",
       "  <tbody>\n",
       "    <tr>\n",
       "      <th>count</th>\n",
       "      <td>105918.000000</td>\n",
       "    </tr>\n",
       "    <tr>\n",
       "      <th>mean</th>\n",
       "      <td>25.548944</td>\n",
       "    </tr>\n",
       "    <tr>\n",
       "      <th>std</th>\n",
       "      <td>2.080832</td>\n",
       "    </tr>\n",
       "    <tr>\n",
       "      <th>min</th>\n",
       "      <td>0.000000</td>\n",
       "    </tr>\n",
       "    <tr>\n",
       "      <th>25%</th>\n",
       "      <td>24.000000</td>\n",
       "    </tr>\n",
       "    <tr>\n",
       "      <th>50%</th>\n",
       "      <td>25.000000</td>\n",
       "    </tr>\n",
       "    <tr>\n",
       "      <th>75%</th>\n",
       "      <td>27.000000</td>\n",
       "    </tr>\n",
       "    <tr>\n",
       "      <th>max</th>\n",
       "      <td>30.000000</td>\n",
       "    </tr>\n",
       "  </tbody>\n",
       "</table>\n",
       "</div>"
      ],
      "text/plain": [
       "                temp\n",
       "count  105918.000000\n",
       "mean       25.548944\n",
       "std         2.080832\n",
       "min         0.000000\n",
       "25%        24.000000\n",
       "50%        25.000000\n",
       "75%        27.000000\n",
       "max        30.000000"
      ]
     },
     "execution_count": 54,
     "metadata": {},
     "output_type": "execute_result"
    }
   ],
   "source": [
    "df_temp=pd.DataFrame(df, columns=['temp'])\n",
    "df_temp=df_temp.astype(int)\n",
    "df_temp\n",
    "df_temp.describe()\n",
    "#df_temp[52959.0]"
   ]
  },
  {
   "cell_type": "code",
   "execution_count": 47,
   "metadata": {},
   "outputs": [
    {
     "data": {
      "text/plain": [
       "temp    int32\n",
       "dtype: object"
      ]
     },
     "metadata": {},
     "output_type": "display_data"
    }
   ],
   "source": [
    "display(df_temp.dtypes)"
   ]
  },
  {
   "cell_type": "code",
   "execution_count": 56,
   "metadata": {},
   "outputs": [
    {
     "data": {
      "text/html": [
       "<div>\n",
       "<style scoped>\n",
       "    .dataframe tbody tr th:only-of-type {\n",
       "        vertical-align: middle;\n",
       "    }\n",
       "\n",
       "    .dataframe tbody tr th {\n",
       "        vertical-align: top;\n",
       "    }\n",
       "\n",
       "    .dataframe thead th {\n",
       "        text-align: right;\n",
       "    }\n",
       "</style>\n",
       "<table border=\"1\" class=\"dataframe\">\n",
       "  <thead>\n",
       "    <tr style=\"text-align: right;\">\n",
       "      <th></th>\n",
       "      <th>humidity</th>\n",
       "    </tr>\n",
       "  </thead>\n",
       "  <tbody>\n",
       "    <tr>\n",
       "      <th>0</th>\n",
       "      <td>76</td>\n",
       "    </tr>\n",
       "    <tr>\n",
       "      <th>1</th>\n",
       "      <td>77</td>\n",
       "    </tr>\n",
       "    <tr>\n",
       "      <th>2</th>\n",
       "      <td>77</td>\n",
       "    </tr>\n",
       "    <tr>\n",
       "      <th>3</th>\n",
       "      <td>78</td>\n",
       "    </tr>\n",
       "    <tr>\n",
       "      <th>4</th>\n",
       "      <td>78</td>\n",
       "    </tr>\n",
       "    <tr>\n",
       "      <th>...</th>\n",
       "      <td>...</td>\n",
       "    </tr>\n",
       "    <tr>\n",
       "      <th>105913</th>\n",
       "      <td>75</td>\n",
       "    </tr>\n",
       "    <tr>\n",
       "      <th>105914</th>\n",
       "      <td>75</td>\n",
       "    </tr>\n",
       "    <tr>\n",
       "      <th>105915</th>\n",
       "      <td>75</td>\n",
       "    </tr>\n",
       "    <tr>\n",
       "      <th>105916</th>\n",
       "      <td>75</td>\n",
       "    </tr>\n",
       "    <tr>\n",
       "      <th>105917</th>\n",
       "      <td>75</td>\n",
       "    </tr>\n",
       "  </tbody>\n",
       "</table>\n",
       "<p>105918 rows × 1 columns</p>\n",
       "</div>"
      ],
      "text/plain": [
       "        humidity\n",
       "0             76\n",
       "1             77\n",
       "2             77\n",
       "3             78\n",
       "4             78\n",
       "...          ...\n",
       "105913        75\n",
       "105914        75\n",
       "105915        75\n",
       "105916        75\n",
       "105917        75\n",
       "\n",
       "[105918 rows x 1 columns]"
      ]
     },
     "execution_count": 56,
     "metadata": {},
     "output_type": "execute_result"
    }
   ],
   "source": [
    "df_humidity=pd.DataFrame(df, columns=['humidity'])\n",
    "df_humidity=df_humidity.astype(int)\n",
    "df_humidity\n",
    "#df_humidity.describe()"
   ]
  },
  {
   "cell_type": "code",
   "execution_count": 57,
   "metadata": {},
   "outputs": [
    {
     "name": "stdout",
     "output_type": "stream",
     "text": [
      "mean1=59.718669, mean2=63.210616\n",
      "variance1=60.222581, variance2=93.774629\n"
     ]
    }
   ],
   "source": [
    "from pandas import read_csv\n",
    "#series = pd.read_excel(r'C:\\Users\\admin\\Desktop\\data from device2.xlsx', header=0, index_col=0)\n",
    "X = df_humidity\n",
    "split = len(X) // 2\n",
    "X1, X2 = X[0:split], X[split:]\n",
    "mean1, mean2 = X1.mean(), X2.mean()\n",
    "var1, var2 = X1.var(), X2.var()\n",
    "print('mean1=%f, mean2=%f' % (mean1, mean2))\n",
    "print('variance1=%f, variance2=%f' % (var1, var2))\n"
   ]
  },
  {
   "cell_type": "code",
   "execution_count": 62,
   "metadata": {},
   "outputs": [
    {
     "data": {
      "text/html": [
       "<div>\n",
       "<style scoped>\n",
       "    .dataframe tbody tr th:only-of-type {\n",
       "        vertical-align: middle;\n",
       "    }\n",
       "\n",
       "    .dataframe tbody tr th {\n",
       "        vertical-align: top;\n",
       "    }\n",
       "\n",
       "    .dataframe thead th {\n",
       "        text-align: right;\n",
       "    }\n",
       "</style>\n",
       "<table border=\"1\" class=\"dataframe\">\n",
       "  <thead>\n",
       "    <tr style=\"text-align: right;\">\n",
       "      <th></th>\n",
       "      <th>co</th>\n",
       "    </tr>\n",
       "  </thead>\n",
       "  <tbody>\n",
       "    <tr>\n",
       "      <th>count</th>\n",
       "      <td>105918.000000</td>\n",
       "    </tr>\n",
       "    <tr>\n",
       "      <th>mean</th>\n",
       "      <td>0.004183</td>\n",
       "    </tr>\n",
       "    <tr>\n",
       "      <th>std</th>\n",
       "      <td>0.000320</td>\n",
       "    </tr>\n",
       "    <tr>\n",
       "      <th>min</th>\n",
       "      <td>0.003391</td>\n",
       "    </tr>\n",
       "    <tr>\n",
       "      <th>25%</th>\n",
       "      <td>0.003931</td>\n",
       "    </tr>\n",
       "    <tr>\n",
       "      <th>50%</th>\n",
       "      <td>0.004089</td>\n",
       "    </tr>\n",
       "    <tr>\n",
       "      <th>75%</th>\n",
       "      <td>0.004391</td>\n",
       "    </tr>\n",
       "    <tr>\n",
       "      <th>max</th>\n",
       "      <td>0.006224</td>\n",
       "    </tr>\n",
       "  </tbody>\n",
       "</table>\n",
       "</div>"
      ],
      "text/plain": [
       "                  co\n",
       "count  105918.000000\n",
       "mean        0.004183\n",
       "std         0.000320\n",
       "min         0.003391\n",
       "25%         0.003931\n",
       "50%         0.004089\n",
       "75%         0.004391\n",
       "max         0.006224"
      ]
     },
     "execution_count": 62,
     "metadata": {},
     "output_type": "execute_result"
    }
   ],
   "source": [
    "df_co=pd.DataFrame(df, columns=['co'])\n",
    "#df_co=df_co.astype(int)\n",
    "df_co\n",
    "df_co.describe()"
   ]
  },
  {
   "cell_type": "code",
   "execution_count": 64,
   "metadata": {},
   "outputs": [
    {
     "name": "stdout",
     "output_type": "stream",
     "text": [
      "mean1=0.004293, mean2=0.004073\n",
      "variance1=0.000000, variance2=0.000000\n"
     ]
    }
   ],
   "source": [
    "X = df_co\n",
    "split = len(X) //2\n",
    "X1, X2 = X[0:split], X[split:]\n",
    "mean1, mean2 = X1.mean(), X2.mean()\n",
    "var1, var2 = X1.var(), X2.var()\n",
    "print('mean1=%f, mean2=%f' % (mean1, mean2))\n",
    "print('variance1=%f, variance2=%f' % (var1, var2))\n"
   ]
  },
  {
   "cell_type": "code",
   "execution_count": null,
   "metadata": {},
   "outputs": [],
   "source": []
  }
 ],
 "metadata": {
  "kernelspec": {
   "display_name": "Python 3",
   "language": "python",
   "name": "python3"
  },
  "language_info": {
   "codemirror_mode": {
    "name": "ipython",
    "version": 3
   },
   "file_extension": ".py",
   "mimetype": "text/x-python",
   "name": "python",
   "nbconvert_exporter": "python",
   "pygments_lexer": "ipython3",
   "version": "3.8.3"
  }
 },
 "nbformat": 4,
 "nbformat_minor": 4
}
